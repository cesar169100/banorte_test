{
 "cells": [
  {
   "cell_type": "code",
   "execution_count": null,
   "metadata": {},
   "outputs": [],
   "source": [
    "import pandas as pd\n",
    "import os"
   ]
  },
  {
   "cell_type": "code",
   "execution_count": null,
   "metadata": {},
   "outputs": [],
   "source": [
    "# Especificar ruta al repo clonado\n",
    "os.chdir(\"/home/cesar/Documentos/banorte_test\")\n",
    "# Lectura de la informacion\n",
    "ratings = pd.read_csv('./data/ratings.dat', sep='::', engine='python', header=None, \n",
    "                      names=['UserID','MovieID','Rating','Timestamp'])\n",
    "users = pd.read_csv('./data/users.dat', sep='::', engine='python', header=None, \n",
    "                      names=['UserID','Gender','Age','Occupation','Zip-code'])\n",
    "movies = pd.read_csv('./data/movies.dat', sep='::', engine='python', header=None, encoding='latin1',\n",
    "                      names=['MovieID','Title','Genres'])\n",
    "\n",
    "movies"
   ]
  }
 ],
 "metadata": {
  "kernelspec": {
   "display_name": "venv",
   "language": "python",
   "name": "python3"
  },
  "language_info": {
   "codemirror_mode": {
    "name": "ipython",
    "version": 3
   },
   "file_extension": ".py",
   "mimetype": "text/x-python",
   "name": "python",
   "nbconvert_exporter": "python",
   "pygments_lexer": "ipython3",
   "version": "3.8.10"
  }
 },
 "nbformat": 4,
 "nbformat_minor": 2
}
