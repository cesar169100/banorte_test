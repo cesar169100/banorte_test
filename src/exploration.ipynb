{
 "cells": [
  {
   "cell_type": "code",
   "execution_count": null,
   "metadata": {},
   "outputs": [],
   "source": [
    "import pandas as pd\n",
    "import os\n",
    "import matplotlib.pyplot as plt\n",
    "from sklearn.model_selection import cross_val_score, train_test_split\n",
    "from sklearn.metrics import make_scorer, mean_absolute_error\n",
    "from surprise import SVD, Dataset, Reader\n",
    "from surprise.model_selection import train_test_split as surprise_train_test_split\n",
    "from xgboost import XGBRegressor\n",
    "import optuna\n",
    "import shap"
   ]
  },
  {
   "cell_type": "code",
   "execution_count": null,
   "metadata": {},
   "outputs": [],
   "source": [
    "# Especificar ruta al repo clonado\n",
    "os.chdir(\"/home/cesar/Documentos/banorte_test\")\n",
    "# Lectura de la informacion\n",
    "ratings = pd.read_csv('./data/ratings.dat', sep='::', engine='python', header=None, \n",
    "                      names=['UserID','MovieID','Rating','Timestamp'])\n",
    "users = pd.read_csv('./data/users.dat', sep='::', engine='python', header=None, \n",
    "                      names=['UserID','Gender','Age','Occupation','Zip-code'])\n",
    "movies = pd.read_csv('./data/movies.dat', sep='::', engine='python', header=None, encoding='latin1',\n",
    "                      names=['MovieID','Title','Genres'])"
   ]
  },
  {
   "cell_type": "code",
   "execution_count": null,
   "metadata": {},
   "outputs": [],
   "source": [
    "### Exploracion\n",
    "# Revisamos porcentaje de nulos\n",
    "print(ratings.isna().mean()*100)\n",
    "print(users.isna().mean()*100)\n",
    "print(movies.isna().mean()*100)"
   ]
  },
  {
   "cell_type": "code",
   "execution_count": null,
   "metadata": {},
   "outputs": [],
   "source": [
    "# Revisamos la cantidad de codigos postales que hay\n",
    "print(users['Zip-code'].nunique())\n",
    "# Remover repetidos\n",
    "ratings = ratings.drop_duplicates(subset=['UserID', 'MovieID'])\n",
    "users = users.drop_duplicates(subset=['UserID'])\n",
    "movies = movies.drop_duplicates(subset=['MovieID'])"
   ]
  },
  {
   "cell_type": "code",
   "execution_count": null,
   "metadata": {},
   "outputs": [],
   "source": [
    "# Creacion del dataframe\n",
    "df = pd.merge(ratings.drop(['Timestamp'],axis=1), users.drop(['Zip-code'],axis=1), on='UserID', how='left')\n",
    "df = pd.merge(df, movies.drop(['Title'],axis=1), on='MovieID', how='left')"
   ]
  },
  {
   "cell_type": "code",
   "execution_count": null,
   "metadata": {},
   "outputs": [],
   "source": [
    "# Expandimos la columna del genero de la pelicula\n",
    "generos = df['Genres'].str.split('|', expand=True)\n",
    "generos.columns = [f'genero_{i+1}' for i in range(generos.shape[1])]\n",
    "generos[pd.notnull(generos['genero_6'])]\n",
    "generos = generos.fillna('ninguno')\n",
    "df = pd.concat([df, generos], axis=1)\n",
    "df = df.drop(['Genres'], axis=1)\n",
    "df[['UserID','MovieID','Age','Occupation']] = df[['UserID','MovieID','Age','Occupation']].astype(str)"
   ]
  },
  {
   "cell_type": "code",
   "execution_count": null,
   "metadata": {},
   "outputs": [],
   "source": [
    "# Ratings por ususario\n",
    "def rating_por_genero(user: str):\n",
    "    dat = df[df['UserID'] == user]\n",
    "    mean_rating = dat.groupby(['genero_1']).agg('Rating').mean()\n",
    "    plt.figure(figsize=(10, 6))\n",
    "    mean_rating.plot(kind='bar', color='blue', edgecolor='black')\n",
    "    plt.title('Rating promedio por género', fontsize=14)\n",
    "    plt.xlabel('Género', fontsize=12)\n",
    "    plt.ylabel('Rating promedio', fontsize=12)\n",
    "    plt.xticks(rotation=90, ha='right')\n",
    "    plt.grid(axis='y', linestyle='--', alpha=0.7)\n",
    "    plt.tight_layout()\n",
    "    plt.savefig('figures/rating.png')\n",
    "    # Mostrar el gráfico\n",
    "    plt.show()\n",
    "\n",
    "rating_por_genero('2')"
   ]
  },
  {
   "cell_type": "code",
   "execution_count": null,
   "metadata": {},
   "outputs": [],
   "source": [
    "### Modelo de pronostico\n",
    "df['Rating'] = df['Rating'].astype(float)\n",
    "reader = Reader(rating_scale=(1, 5))  # Escala de ratings de 1 a 5\n",
    "# Solo captura relaciones entre users y peliculas\n",
    "data = Dataset.load_from_df(df[['UserID','MovieID','Rating']], reader)\n",
    "trainset, _ = surprise_train_test_split(data, test_size=0.2, random_state=42)\n",
    "svd_model = SVD()\n",
    "svd_model.fit(trainset)\n",
    "\n",
    "# Generar pronósticos para cada fila del DataFrame\n",
    "def predecir_rating(row):\n",
    "    prediccion = svd_model.predict(row['UserID'], row['MovieID'])\n",
    "    return prediccion.est  # Pronóstico del rating"
   ]
  },
  {
   "cell_type": "code",
   "execution_count": null,
   "metadata": {},
   "outputs": [],
   "source": [
    "# Agregar el pronostico svd como feature al dataframe original\n",
    "df['svd_prediction'] = df.apply(predecir_rating, axis=1)\n",
    "df.head(10)"
   ]
  },
  {
   "cell_type": "code",
   "execution_count": null,
   "metadata": {},
   "outputs": [],
   "source": [
    "# OHE\n",
    "df_F = df.drop(['UserID','MovieID'], axis=1)\n",
    "categorical_columns = df_F.columns.drop(['Rating','svd_prediction'])\n",
    "\n",
    "df_encoded = pd.get_dummies(df_F.drop(['Rating','svd_prediction'], axis=1), columns=categorical_columns, \n",
    "                            prefix=categorical_columns)\n",
    "df_encoded = df_encoded.astype(int)\n",
    "df_final = pd.concat([df_F[['Rating','svd_prediction']], df_encoded], axis=1)\n",
    "df_final.to_csv(\"./data/df_final.csv\")"
   ]
  }
 ],
 "metadata": {
  "kernelspec": {
   "display_name": "venv",
   "language": "python",
   "name": "python3"
  },
  "language_info": {
   "codemirror_mode": {
    "name": "ipython",
    "version": 3
   },
   "file_extension": ".py",
   "mimetype": "text/x-python",
   "name": "python",
   "nbconvert_exporter": "python",
   "pygments_lexer": "ipython3",
   "version": "3.8.10"
  }
 },
 "nbformat": 4,
 "nbformat_minor": 2
}
